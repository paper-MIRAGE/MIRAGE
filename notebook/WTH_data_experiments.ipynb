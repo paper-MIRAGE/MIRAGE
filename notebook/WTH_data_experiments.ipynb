{
 "cells": [
  {
   "cell_type": "code",
   "execution_count": null,
   "id": "d240f143",
   "metadata": {},
   "outputs": [],
   "source": [
    "!pip install shap"
   ]
  },
  {
   "cell_type": "code",
   "execution_count": null,
   "id": "2b3eb2e9",
   "metadata": {},
   "outputs": [],
   "source": [
    "import numpy as np\n",
    "import matplotlib.pyplot as plt\n",
    "import seaborn as sns\n",
    "\n",
    "try:\n",
    "    import tensorflow.compat.v1 as tf \n",
    "    tf.disable_v2_behavior()\n",
    "except:\n",
    "    import tensorflow as tf\n",
    "    \n",
    "import os\n",
    "import h5py\n",
    "import shap"
   ]
  },
  {
   "cell_type": "markdown",
   "id": "ce3e3571-dcf3-428b-aecb-3edfb7c04bb1",
   "metadata": {},
   "source": [
    "**Config**"
   ]
  },
  {
   "cell_type": "code",
   "execution_count": 18,
   "id": "4985a4fe-2829-41fb-8eae-406bf7f7b028",
   "metadata": {
    "tags": []
   },
   "outputs": [],
   "source": [
    "# Dataset specific\n",
    "input_size = 12\n",
    "n_clusters = 4\n",
    "dataset = \"WTH\"\n",
    "\n",
    "trans_mat_size = n_clusters \n",
    "num_iter = 5\n",
    "som_dim = [8, 8]\n",
    "c_len, t_len, out_len = (144, 72, 24)\n",
    "c_dim = 3\n",
    "latent_dim = 200\n",
    "batch_size = 256\n",
    "lstm_dim = 64\n",
    "num_pred = out_len\n",
    "max_n_step = t_len\n",
    "\n",
    "ex_name = \"mirage_2023-09-28-112352_b5347\""
   ]
  },
  {
   "cell_type": "code",
   "execution_count": 24,
   "id": "6fd81c7c-8726-461a-9800-9f67b6d3942d",
   "metadata": {
    "tags": []
   },
   "outputs": [],
   "source": [
    "datadir = \"../data\"\n",
    "\n",
    "def get_data(filename, train_val_split_ratio=0.85):\n",
    "    \"\"\"Load the saved data and split into training, validation and test set.\n",
    "    Args:\n",
    "        train_val_split_ratio (float): Split of train-validation/test\n",
    "        filename (str): Name of the data file\n",
    "    Yields:\n",
    "        np.array: Training data.\n",
    "        np.array: Val/test data depending on validation value.\n",
    "        np.array: Training labels.\n",
    "        np.array: Val/test data depending on validation value.\n",
    "    \"\"\"\n",
    "    hf = h5py.File(os.path.join(datadir, filename), \"r\")\n",
    "    features = np.array(hf.get(\"x\"))\n",
    "    targets = np.array(hf.get(\"y\"))\n",
    "\n",
    "    print(\"data_total shape:\", features.shape)\n",
    "    print(\"endpoints_total shape\", targets.shape)\n",
    "\n",
    "    len_train = int(len(features) * train_val_split_ratio)\n",
    "\n",
    "    features_train = features[:len_train]\n",
    "    targets_train = targets[:len_train]\n",
    "    features_val = features[len_train:]\n",
    "    targets_val = targets[len_train:]\n",
    "\n",
    "    return features_train, features_val, targets_train, targets_val"
   ]
  },
  {
   "cell_type": "code",
   "execution_count": 25,
   "id": "5f984a3a-ba8e-457a-94fa-f3b8e46db002",
   "metadata": {
    "tags": []
   },
   "outputs": [],
   "source": [
    "def batch_generator(data, endpoints, batch_size):\n",
    "    while True:\n",
    "        for i in range(len(data) // batch_size):\n",
    "            time_series_data = data[i * batch_size: (i + 1) * batch_size]\n",
    "            time_series_endpoint = endpoints[i * batch_size: (i + 1) * batch_size]\n",
    "            yield time_series_data, time_series_endpoint, i"
   ]
  },
  {
   "cell_type": "code",
   "execution_count": 27,
   "id": "de0539ab-0f7a-49f4-bd58-5f93197b6125",
   "metadata": {
    "tags": []
   },
   "outputs": [
    {
     "name": "stdout",
     "output_type": "stream",
     "text": [
      "data_total shape: (34582, 96, 16)\n",
      "endpoints_total shape (34582, 96, 5)\n",
      "data_train shape: (23515, 96, 16)\n",
      "endpoints_total_train shape (23515, 96, 5)\n",
      "data_val shape: (5188, 96, 16)\n",
      "endpoints_total_val shape (5188, 96, 5)\n",
      "data_total shape: (34582, 96, 16)\n",
      "endpoints_total shape (34582, 96, 5)\n",
      "data_train shape: (23515, 96, 16)\n",
      "endpoints_total_train shape (23515, 96, 5)\n",
      "data_val shape: (5188, 96, 16)\n",
      "endpoints_total_val shape (5188, 96, 5)\n"
     ]
    }
   ],
   "source": [
    "modelpath = \"../models/{}/{}\".format(ex_name, ex_name)\n",
    "\n",
    "data_train, data_val, endpoints_total_train, endpoints_total_val = get_data(\n",
    "    filename=\"model_ready_data.h5\"\n",
    ")\n",
    "(\n",
    "    data_train_full,\n",
    "    data_val_full,\n",
    "    endpoints_total_train_full,\n",
    "    endpoints_total_val_full,\n",
    ") = get_data(filename=\"model_ready_data.h5\")\n",
    "\n",
    "# Truncated to max_n_step time steps only\n",
    "data_train = data_train[:, :max_n_step, :]\n",
    "data_val = data_val[:, :max_n_step, :]\n",
    "endpoints_total_train = endpoints_total_train[:, :max_n_step, :]\n",
    "endpoints_total_val = endpoints_total_val[:, :max_n_step, :]"
   ]
  },
  {
   "cell_type": "code",
   "execution_count": 28,
   "id": "9993c3a4-1745-49d6-9a92-a37fc1b8f983",
   "metadata": {
    "tags": []
   },
   "outputs": [
    {
     "data": {
      "text/plain": [
       "((23515, 72, 16), (23515, 96, 16))"
      ]
     },
     "execution_count": 28,
     "metadata": {},
     "output_type": "execute_result"
    }
   ],
   "source": [
    "data_train.shape, data_train_full.shape"
   ]
  },
  {
   "cell_type": "code",
   "execution_count": 29,
   "id": "dd6312a2-d416-405b-8715-1029f93b7744",
   "metadata": {
    "tags": []
   },
   "outputs": [],
   "source": [
    "train_gen = batch_generator(\n",
    "    data_train_full, \n",
    "    endpoints_total_train_full, \n",
    "    batch_size, \n",
    ")"
   ]
  },
  {
   "cell_type": "markdown",
   "id": "95401f71-0e3e-4bcf-867b-cdb56b819dfd",
   "metadata": {
    "tags": []
   },
   "source": [
    "# Infer cluster assignments from the Network"
   ]
  },
  {
   "cell_type": "code",
   "execution_count": 40,
   "id": "8e2605e2-97ca-45b3-81f0-07a8cac1b6e4",
   "metadata": {
    "tags": []
   },
   "outputs": [
    {
     "name": "stdout",
     "output_type": "stream",
     "text": [
      "num_batches 91\n",
      "Evaluation...\n"
     ]
    }
   ],
   "source": [
    "num_batches = len(data_train_full) // batch_size\n",
    "print(\"num_batches\", num_batches)\n",
    "\n",
    "tf.reset_default_graph()\n",
    "\n",
    "with tf.Session() as sess:\n",
    "    sess.run(tf.global_variables_initializer())\n",
    "    saver = tf.train.import_meta_graph(modelpath + \".meta\")\n",
    "    saver.restore(sess, modelpath)\n",
    "    graph = tf.get_default_graph()\n",
    "    k = graph.get_tensor_by_name(\"k/k:0\")\n",
    "    z_e = graph.get_tensor_by_name(\"z_e_sample/z_e:0\")  # z_e_rec\n",
    "    x = graph.get_tensor_by_name(\"inputs/x:0\")\n",
    "    is_training = graph.get_tensor_by_name(\"is_training/is_training:0\")\n",
    "    graph = tf.get_default_graph()\n",
    "    z_e_p = graph.get_tensor_by_name(\"prediction/next_state/input_lstm:0\") # z_e_p\n",
    "    q = graph.get_tensor_by_name(\"q/distribution/q:0\")\n",
    "    embeddings = graph.get_tensor_by_name(\"embeddings/embeddings:0\")\n",
    "    reconstruction = graph.get_tensor_by_name(\"reconstruction_e/x_hat:0\")\n",
    "    x_trans_mat = graph.get_tensor_by_name(\"x_trans_mat_inputs/x_trans_mat:0\")\n",
    "    concat_x_c = graph.get_tensor_by_name(\"concatenated_inputs/concat_x_c:0\")\n",
    "    \n",
    "    print(\"Evaluation...\")\n",
    "    test_k_all = []\n",
    "    labels_val_all = []\n",
    "    z_e_all = []\n",
    "    z_q_all = []\n",
    "    qq = []\n",
    "    \n",
    "    for i in range(num_batches):\n",
    "        batch_data, batch_labels, ii = next(train_gen)\n",
    "        batch_val_ts_data = batch_data[ :, :, trans_mat_size : ]\n",
    "        batch_conditions = np.zeros(\n",
    "            (batch_val_ts_data.shape[0], batch_val_ts_data.shape[1], c_dim)\n",
    "        )\n",
    "        batch_concat_x_c = np.concatenate((batch_val_ts_data, batch_conditions), axis=2)\n",
    "        \n",
    "        f_dic = {\n",
    "            x: batch_val_ts_data, \n",
    "            x_trans_mat: batch_data[:, :, : trans_mat_size],\n",
    "            concat_x_c: batch_concat_x_c\n",
    "        }\n",
    "        \n",
    "        test_k_all.extend(sess.run(k, feed_dict=f_dic))\n",
    "        labels_val_all.extend(batch_labels)\n",
    "        \n",
    "    labels_val_all = np.array(labels_val_all)\n",
    "    k_all_orig = np.array(test_k_all)\n",
    "    labels_val_all = np.reshape(labels_val_all, (-1, labels_val_all.shape[-1]))"
   ]
  },
  {
   "cell_type": "markdown",
   "id": "e857a634-1f7c-4093-97f9-5ee1bac09bc1",
   "metadata": {},
   "source": [
    "`k_all_orig` contains cluster assignments for all slices for all times ($in$+$out$)"
   ]
  },
  {
   "cell_type": "markdown",
   "id": "15dbc924-7303-4ed1-8a6b-9f62bd77340d",
   "metadata": {
    "tags": []
   },
   "source": [
    "# Generate cluster matrix"
   ]
  },
  {
   "cell_type": "code",
   "execution_count": 45,
   "id": "2753eeea-5e8a-4396-94b8-0d8debb50ba4",
   "metadata": {
    "tags": []
   },
   "outputs": [
    {
     "data": {
      "image/png": "[encoded data removed]",
      "text/plain": [
       "<Figure size 300x300 with 2 Axes>"
      ]
     },
     "metadata": {},
     "output_type": "display_data"
    }
   ],
   "source": [
    "labels = labels_val_all[:,-1]\n",
    "\n",
    "f = plt.figure(figsize=(3,3))\n",
    "ones = np.ones((len(np.reshape(k_all_orig, (-1)))))\n",
    "clust_matr1 = np.zeros(som_dim[0] * som_dim[1])\n",
    "\n",
    "min_s1 = np.inf\n",
    "for i in range(som_dim[0] * som_dim[1]):\n",
    "    # Mean of labels at that cell\n",
    "    s1 = np.sum(\n",
    "        labels[np.where(np.reshape(k_all_orig, (-1)) == i)]\n",
    "    ) / np.sum(ones[np.where(np.reshape(k_all_orig, (-1)) == i)])\n",
    "    \n",
    "    if s1 < min_s1:\n",
    "        min_s1 = s1\n",
    "    \n",
    "    clust_matr1[i] = s1\n",
    "\n",
    "clust_matr1 = np.nan_to_num(clust_matr1, nan=min_s1)\n",
    "\n",
    "clust_matr1 = np.reshape(clust_matr1, (som_dim[0],som_dim[1]))\n",
    "ax = sns.heatmap(clust_matr1, cmap=\"YlGnBu\")\n",
    "plt.show()"
   ]
  },
  {
   "cell_type": "markdown",
   "id": "ba5c4762-3c02-4d5c-876c-3c4a63cefbc9",
   "metadata": {
    "tags": []
   },
   "source": [
    "# Transitions"
   ]
  },
  {
   "cell_type": "code",
   "execution_count": 22,
   "id": "9821fed0-9a38-463e-ad14-87fa5ab3c35e",
   "metadata": {
    "tags": []
   },
   "outputs": [],
   "source": [
    "k_all = np.reshape(k_all_orig, (-1, t_len + out_len))"
   ]
  },
  {
   "cell_type": "code",
   "execution_count": 25,
   "id": "b71c872f-73c2-4342-b9d3-b2b654f5ced2",
   "metadata": {
    "tags": []
   },
   "outputs": [],
   "source": [
    "good_idx = [ 9705, 19268,  8812]\n",
    "bad_idx = [ 7680, 22484, 21935]"
   ]
  },
  {
   "cell_type": "code",
   "execution_count": 26,
   "id": "b83e9e8b-bc8f-49c7-a18f-959ad1e328b7",
   "metadata": {
    "tags": []
   },
   "outputs": [
    {
     "data": {
      "image/png": "[encoded data removed]",
      "text/plain": [
       "<Figure size 3000x1500 with 12 Axes>"
      ]
     },
     "metadata": {},
     "output_type": "display_data"
    }
   ],
   "source": [
    "fig, ax = plt.subplots(2, 3, figsize=(30, 15)) \n",
    "\n",
    "clust_matr1 = np.zeros(som_dim[0] * som_dim[1])\n",
    "\n",
    "min_s1 = np.inf\n",
    "for i in range(som_dim[0] * som_dim[1]):\n",
    "    s1 = np.sum(\n",
    "        labels[np.where(np.reshape(k_all, (-1)) == i)]\n",
    "    ) / np.sum(ones[np.where(np.reshape(k_all, (-1)) == i)])\n",
    "    \n",
    "    if s1 < min_s1:\n",
    "        min_s1 = s1\n",
    "    \n",
    "    clust_matr1[i] = s1\n",
    "\n",
    "clust_matr1 = np.nan_to_num(clust_matr1, nan=min_s1)\n",
    "clust_matr1 = np.reshape(clust_matr1, (som_dim[0], som_dim[1]))\n",
    "\n",
    "it = 0\n",
    "for t in np.concatenate([good_idx, bad_idx]):\n",
    "    if it >= len(good_idx):\n",
    "        c = \"r\"\n",
    "    else:\n",
    "        c = \"g\"\n",
    "\n",
    "    cc = it % 3\n",
    "    rr = it // 3\n",
    "    \n",
    "    g = sns.heatmap(clust_matr1, cmap=\"YlGnBu\", ax=ax[rr][cc])\n",
    "    \n",
    "    k_1_all = [ii + 0.5 for ii in list(k_all[t] // som_dim[1])]\n",
    "    k_2_all = [jj + 0.5 for jj in list(k_all[t] % som_dim[1])]\n",
    "    \n",
    "    # k_1 = k_1_all\n",
    "    # k_2 = k_2_all\n",
    "    \n",
    "    k_1_before = k_1_all[max_n_step - 5 : max_n_step + 1]\n",
    "    k_2_before = k_2_all[max_n_step - 5 : max_n_step + 1]\n",
    "    \n",
    "    ax[rr][cc].plot(k_2_before[:], k_1_before[:], color=c, linewidth=4)\n",
    "    \n",
    "    k_1 = k_1_all[max_n_step : ]\n",
    "    k_2 = k_2_all[max_n_step : ]\n",
    "    \n",
    "    ax[rr][cc].plot(k_2[:], k_1[:], color=c, linewidth=4, linestyle=\":\")\n",
    "    \n",
    "    # Mark start\n",
    "    ax[rr][cc].scatter(k_2_before[0], k_1_before[0], color=c, s=200, label=\"Start\")\n",
    "    \n",
    "    # Mark path\n",
    "    ax[rr][cc].scatter(k_2_before[1:-1], k_1_before[1:-1], color=c, linewidth=5, marker='.')\n",
    "    ax[rr][cc].scatter(k_2[1:-1], k_1[1:-1], color=c, linewidth=5, marker='.')\n",
    "    \n",
    "    # Mark end\n",
    "    ax[rr][cc].scatter(k_2[-1], k_1[-1], color=c, s=300, linewidth=3, marker='x', label='End')\n",
    "    \n",
    "    # Get legend\n",
    "    ax[rr][cc].legend(loc=2, prop={'size': 15})\n",
    "    \n",
    "    # ax[rr][cc].tick_params(axis='both', which='major', labelsize=20)\n",
    "    # ax[rr][cc].tick_params(axis='both', which='minor', labelsize=20)\n",
    "    \n",
    "    it +=1\n",
    "    \n",
    "plt.show()"
   ]
  },
  {
   "cell_type": "markdown",
   "id": "b7101b43-b854-48a1-a914-e240e2ff5c51",
   "metadata": {
    "tags": []
   },
   "source": [
    "---\n",
    "<br> \n",
    "\n",
    "# Explainability"
   ]
  },
  {
   "cell_type": "markdown",
   "id": "704ccda4-31c8-4d28-a620-e0b1b098f2aa",
   "metadata": {
    "tags": []
   },
   "source": [
    "## SHAP values"
   ]
  },
  {
   "cell_type": "code",
   "execution_count": 18,
   "id": "98811d92-87f6-4de0-9e37-b085538a918c",
   "metadata": {
    "tags": []
   },
   "outputs": [],
   "source": [
    "def model_cluster_inference(input_data):\n",
    "    # Set Configurations\n",
    "    modelpath = \"../models/{}/{}\".format(ex_name, ex_name)\n",
    "    # trans_mat_size = trans_mat_size\n",
    "    \n",
    "    tf.reset_default_graph()\n",
    "    with tf.Session() as sess:\n",
    "        sess.run(tf.global_variables_initializer())\n",
    "        saver = tf.train.import_meta_graph(modelpath + \".meta\")\n",
    "        saver.restore(sess, modelpath)\n",
    "        \n",
    "        graph = tf.get_default_graph()\n",
    "        \n",
    "        k = graph.get_tensor_by_name(\"k/k:0\")\n",
    "        x = graph.get_tensor_by_name(\"inputs/x:0\")\n",
    "        x_trans_mat = graph.get_tensor_by_name(\"x_trans_mat_inputs/x_trans_mat:0\")\n",
    "        \n",
    "        ts_data = np.expand_dims(input_data[:, trans_mat_size:], axis=0 )\n",
    "        trans_mat_x_data = np.expand_dims(input_data[:, :trans_mat_size], axis=0 )\n",
    "        \n",
    "        k_all = []\n",
    "        f_dic = {x: ts_data, x_trans_mat:trans_mat_x_data}\n",
    "        k_all = sess.run(k, feed_dict=f_dic)\n",
    "\n",
    "    return k_all"
   ]
  },
  {
   "cell_type": "code",
   "execution_count": 19,
   "id": "42e08524-3c49-455d-aebf-030e9bfc48cd",
   "metadata": {
    "tags": []
   },
   "outputs": [
    {
     "name": "stderr",
     "output_type": "stream",
     "text": [
      "2023-09-28 18:31:23.743134: I tensorflow/core/platform/cpu_feature_guard.cc:193] This TensorFlow binary is optimized with oneAPI Deep Neural Network Library (oneDNN) to use the following CPU instructions in performance-critical operations:  AVX512F\n",
      "To enable them in other operations, rebuild TensorFlow with the appropriate compiler flags.\n",
      "2023-09-28 18:31:23.749757: I tensorflow/core/common_runtime/process_util.cc:146] Creating new thread pool with default inter op setting: 2. Tune using inter_op_parallelism_threads for best performance.\n",
      "2023-09-28 18:31:23.751195: I tensorflow/compiler/mlir/mlir_graph_optimization_pass.cc:354] MLIR V1 optimization pass is not enabled\n"
     ]
    }
   ],
   "source": [
    "input_data = np.reshape(data_train_full, (-1, data_train_full.shape[2]))\n",
    "k_all = model_cluster_inference(input_data)"
   ]
  },
  {
   "cell_type": "code",
   "execution_count": 1,
   "id": "bd6cef03-e7a7-4fd2-8e04-01baa20a4bc9",
   "metadata": {
    "tags": []
   },
   "outputs": [],
   "source": [
    "class_explanations = []\n",
    "for class_label in np.unique(k_all):\n",
    "    print(\"class_label:\", class_label)\n",
    "    class_mask = (k_all == class_label)\n",
    "    filtered_input = input_data[class_mask]    \n",
    "    sampled_input = filtered_input[np.random.choice(filtered_input.shape[0], 10, replace=False)]\n",
    "\n",
    "    explainer = shap.Explainer(model_cluster_inference, sampled_input)\n",
    "    shap_values = explainer.shap_values(sampled_input)\n",
    "    class_explanations.append(shap_values)\n",
    "    \n",
    "# Save the shapley values.\n",
    "class_explanations = np.array(class_explanations)"
   ]
  },
  {
   "cell_type": "markdown",
   "id": "41bb1bce-e27b-4e74-882a-d73cde91ae22",
   "metadata": {},
   "source": [
    "\n",
    "### Cluster Dict"
   ]
  },
  {
   "cell_type": "code",
   "execution_count": 31,
   "id": "ac71f469-fd3d-44da-a2bd-23b3bb344f6f",
   "metadata": {},
   "outputs": [],
   "source": [
    "# Generate the feature importance for each cluster\n",
    "cluster_dict = {\n",
    "    i: f\"Transition-{i}\" for i in range(0, n_clusters)\n",
    "}\n",
    "\n",
    "cluster_dict.update({\n",
    "    n_clusters + 0: \"Visibility\",\n",
    "    n_clusters + 1: \"DryBulbFarenheit\",\n",
    "    n_clusters + 2: \"DryBulbCelsius\",\n",
    "    n_clusters + 3: \"WetBulbFarenheit\",\n",
    "    n_clusters + 4: \"DewPointFarenheit\",\n",
    "    n_clusters + 5: \"DewPointCelsius\",\n",
    "    n_clusters + 6: \"RelativeHumidity\",\n",
    "    n_clusters + 7: \"WindSpeed\",\n",
    "    n_clusters + 8: \"WindDirection\",\n",
    "    n_clusters + 9: \"StationPressure\",\n",
    "    n_clusters + 10: \"Altimeter\",\n",
    "    n_clusters + 11: \"WetBulbCelsius\",\n",
    "})    "
   ]
  },
  {
   "cell_type": "code",
   "execution_count": 33,
   "id": "220ea442-28af-403a-98e2-ba4914387146",
   "metadata": {
    "tags": []
   },
   "outputs": [],
   "source": [
    "class_explanations_new = class_explanations"
   ]
  },
  {
   "cell_type": "code",
   "execution_count": 35,
   "id": "6a45968e-d7a8-4773-924c-4992c7be5ce6",
   "metadata": {},
   "outputs": [],
   "source": [
    "cluster_feat_imp = {} # dict of key=\"cluster_id\", values=\"most_imp_feature_name\"\n",
    "\n",
    "for i in range(len(class_explanations_new)):\n",
    "    sv_cls = class_explanations_new[i]\n",
    "    if np.isnan(sv_cls).all():\n",
    "        cluster_feat_imp[i] = np.nan\n",
    "        continue\n",
    "        \n",
    "    mean_sv = np.mean(sv_cls[:, trans_mat_size:], axis=0)\n",
    "    # Remove heatmap feature\n",
    "    mean_sv = mean_sv[:-1]\n",
    "    most_imp_feature = np.abs(mean_sv).argmax()\n",
    "    cluster_feat_imp[i] = trans_mat_size + most_imp_feature"
   ]
  },
  {
   "cell_type": "markdown",
   "id": "ffd330fb-4d26-48cc-b3e3-9af3a1561652",
   "metadata": {
    "tags": []
   },
   "source": [
    "## End-to-end explainability"
   ]
  },
  {
   "cell_type": "code",
   "execution_count": 31,
   "id": "5fb26e99-33c5-41ea-94c3-9f753cda5210",
   "metadata": {
    "tags": []
   },
   "outputs": [],
   "source": [
    "train_gen = batch_generator(\n",
    "    data_train, \n",
    "    endpoints_total_train, \n",
    "    batch_size, \n",
    ")"
   ]
  },
  {
   "cell_type": "code",
   "execution_count": 32,
   "id": "cda9a5fc-e8b1-4fbc-aa0a-040c01f30ea8",
   "metadata": {
    "tags": []
   },
   "outputs": [],
   "source": [
    "def z_dist_flat(z_e, embeddings):\n",
    "    \"\"\"Computes the distances between the encodings and the embeddings.\"\"\"\n",
    "    # som_dim = som_dim\n",
    "    # latent_dim = latent_dim\n",
    "    emb = np.reshape(embeddings, (som_dim[0]*som_dim[1], -1))\n",
    "    z = np.reshape(z_e, (z_e.shape[0], 1, latent_dim))\n",
    "    z = np.tile(z, [1,som_dim[0]*som_dim[1], 1])\n",
    "    z_dist = np.square(z-emb)\n",
    "    z_dist_red = np.sum(z_dist, axis=-1)\n",
    "    return z_dist_red"
   ]
  },
  {
   "cell_type": "markdown",
   "id": "27816a74-8cd5-4147-88e1-cc998834ed93",
   "metadata": {
    "tags": []
   },
   "source": [
    "## Run Model to get attention weights and `k_all_exp`"
   ]
  },
  {
   "cell_type": "code",
   "execution_count": 33,
   "id": "749aca9d-20b3-4819-9335-8f4a06f7872b",
   "metadata": {
    "tags": []
   },
   "outputs": [
    {
     "name": "stdout",
     "output_type": "stream",
     "text": [
      "num_batches 91\n",
      "Step-1\n"
     ]
    },
    {
     "data": {
      "application/vnd.jupyter.widget-view+json": {
       "model_id": "6f15fe2a5ffa40549175e70b0b9d9579",
       "version_major": 2,
       "version_minor": 0
      },
      "text/plain": [
       "  0%|          | 0/91 [00:00<?, ?it/s]"
      ]
     },
     "metadata": {},
     "output_type": "display_data"
    },
    {
     "name": "stdout",
     "output_type": "stream",
     "text": [
      "Step-2\n"
     ]
    },
    {
     "data": {
      "application/vnd.jupyter.widget-view+json": {
       "model_id": "640a428daeb74457917b0d8c7144febb",
       "version_major": 2,
       "version_minor": 0
      },
      "text/plain": [
       "  0%|          | 0/91 [00:00<?, ?it/s]"
      ]
     },
     "metadata": {},
     "output_type": "display_data"
    },
    {
     "name": "stdout",
     "output_type": "stream",
     "text": [
      "Step-3\n"
     ]
    },
    {
     "data": {
      "application/vnd.jupyter.widget-view+json": {
       "model_id": "3b51c6e9a4414716ba606e33ef76980c",
       "version_major": 2,
       "version_minor": 0
      },
      "text/plain": [
       "  0%|          | 0/91 [00:00<?, ?it/s]"
      ]
     },
     "metadata": {},
     "output_type": "display_data"
    },
    {
     "name": "stdout",
     "output_type": "stream",
     "text": [
      "Step-4\n"
     ]
    },
    {
     "data": {
      "application/vnd.jupyter.widget-view+json": {
       "model_id": "97fa6e28e23e4bd29dd0e5596af61995",
       "version_major": 2,
       "version_minor": 0
      },
      "text/plain": [
       "  0%|          | 0/23 [00:00<?, ?it/s]"
      ]
     },
     "metadata": {},
     "output_type": "display_data"
    },
    {
     "name": "stdout",
     "output_type": "stream",
     "text": [
      "CPU times: user 2h 32min 35s, sys: 20min 3s, total: 2h 52min 39s\n",
      "Wall time: 12min 41s\n"
     ]
    }
   ],
   "source": [
    "%%time\n",
    "\n",
    "from tqdm.notebook import tqdm, trange\n",
    "\n",
    "num_batches = len(data_train) // batch_size\n",
    "print(\"num_batches\", num_batches)\n",
    "\n",
    "tf.reset_default_graph()\n",
    "\n",
    "with tf.Session() as sess:\n",
    "    sess.run(tf.global_variables_initializer())\n",
    "    saver = tf.train.import_meta_graph(modelpath + \".meta\")\n",
    "    saver.restore(sess, modelpath)\n",
    "    \n",
    "    graph = tf.get_default_graph()\n",
    "    \n",
    "    k = graph.get_tensor_by_name(\"k/k:0\")\n",
    "    x = graph.get_tensor_by_name(\"inputs/x:0\")\n",
    "    c = graph.get_tensor_by_name(\"conditions/c:0\")\n",
    "    z_e = graph.get_tensor_by_name(\"z_e_sample/z_e:0\")\n",
    "    next_z_e = graph.get_tensor_by_name(\"prediction/next_z_e:0\")\n",
    "    embeddings = graph.get_tensor_by_name(\"embeddings/embeddings:0\")\n",
    "    z_p = graph.get_tensor_by_name('reconstruction_e/decoder/z_e:0')\n",
    "    is_training = graph.get_tensor_by_name(\"is_training/is_training:0\")\n",
    "    z_e_p = graph.get_tensor_by_name(\"prediction/next_state/input_lstm:0\")\n",
    "    init_1 = graph.get_tensor_by_name(\"prediction/next_state/init_state:0\")\n",
    "    state1 = graph.get_tensor_by_name(\"prediction/next_state/next_state:0\")\n",
    "    concat_x_c = graph.get_tensor_by_name(\"concatenated_inputs/concat_x_c:0\")\n",
    "    x_trans_mat = graph.get_tensor_by_name(\"x_trans_mat_inputs/x_trans_mat:0\")\n",
    "    y_trans_mat = graph.get_tensor_by_name(\"y_trans_mat_inputs/y_trans_mat:0\")\n",
    "    attention_weights = graph.get_tensor_by_name(\"prediction/next_state/attention_weights:0\")\n",
    "    \n",
    "    #############################################################################\n",
    "    #  I. Evaluating whole training data to generate heat map cluster matrix    #\n",
    "    #############################################################################\n",
    "\n",
    "    # -------------------------------------------- #\n",
    "    # 1. Find all k_all of the full training data  #\n",
    "    # -------------------------------------------- #\n",
    "    print(\"Step-1\")\n",
    "    num_batches = len(data_train) // batch_size\n",
    "    training_dic = {\n",
    "        is_training: False,\n",
    "        z_e_p: np.zeros((max_n_step, len(data_train), latent_dim)),\n",
    "        init_1: np.zeros((2, batch_size, lstm_dim)),\n",
    "        z_p: np.zeros((max_n_step * len(data_train), latent_dim + c_dim)),\n",
    "    }\n",
    "    k_all = []\n",
    "    labels_all = []\n",
    "    for i in trange(num_batches):\n",
    "        batch_data, batch_labels, ii = next(train_gen)\n",
    "\n",
    "        # Added for CVAE\n",
    "        batch_ts_data = batch_data[:, :, trans_mat_size:]\n",
    "        batch_trans_mat_x = batch_data[:, :, :trans_mat_size]\n",
    "        batch_trans_mat_y = batch_labels[:, :, :trans_mat_size]\n",
    "        labels_all.extend(batch_labels)\n",
    "\n",
    "        batch_conditions = np.zeros((batch_ts_data.shape[0], max_n_step, c_dim))\n",
    "        batch_concat_x_c = np.concatenate((batch_ts_data, batch_conditions), axis=2)\n",
    "        f_dic = {\n",
    "            x: batch_ts_data,\n",
    "            x_trans_mat: batch_trans_mat_x,\n",
    "            y_trans_mat: batch_trans_mat_y,\n",
    "            c: batch_conditions,\n",
    "            concat_x_c: batch_concat_x_c,\n",
    "        }\n",
    "        k_all.extend(sess.run(k, feed_dict=f_dic))\n",
    "\n",
    "    k_all = np.array(k_all)\n",
    "    k_all = k_all.reshape((-1, max_n_step))\n",
    "    labels_all = np.array(labels_all)\n",
    "    labels_all = np.reshape(labels_all, (-1, labels_all.shape[-1]))\n",
    "    \n",
    "    ######################################################################\n",
    "    #  II. Evaluating whole validation data and generating all arrays    #\n",
    "    ######################################################################\n",
    "    print(\"Step-2\")\n",
    "    num_batches = len(data_train) // batch_size\n",
    "    total_val_size = num_batches * batch_size\n",
    "    training_dic = {\n",
    "        is_training: True,\n",
    "        z_e_p: np.zeros((max_n_step, len(data_train), latent_dim)),\n",
    "        init_1: np.zeros((2, batch_size, lstm_dim)),\n",
    "        z_p: np.zeros((max_n_step * len(data_train), latent_dim + c_dim)),\n",
    "    }\n",
    "\n",
    "    k_all = []\n",
    "    z_e_all = []\n",
    "    for i in trange(num_batches):\n",
    "        batch_val_data, batch_val_labels, ii = next(train_gen)\n",
    "\n",
    "        # Added for CVAE\n",
    "        batch_val_ts_data = batch_val_data[:, :, trans_mat_size:]\n",
    "        batch_val_trans_mat_x = batch_val_data[:, :, :trans_mat_size]\n",
    "        batch_val_trans_mat_y = batch_val_labels[:, :, :trans_mat_size]\n",
    "\n",
    "        batch_conditions = np.zeros((batch_val_ts_data.shape[0], max_n_step, c_dim))\n",
    "        batch_concat_x_c = np.concatenate(\n",
    "            (batch_val_ts_data, batch_conditions), axis=2\n",
    "        )\n",
    "        f_dic = {\n",
    "            x: batch_val_ts_data,\n",
    "            x_trans_mat: batch_val_trans_mat_x,\n",
    "            y_trans_mat: batch_val_trans_mat_y,\n",
    "            c: batch_conditions,\n",
    "            concat_x_c: batch_concat_x_c,\n",
    "        }\n",
    "\n",
    "        k_all.extend(sess.run(k, feed_dict=f_dic))\n",
    "        z_e_all.extend(sess.run(z_e, feed_dict=f_dic))\n",
    "\n",
    "    z_e_all = np.array(z_e_all)\n",
    "    k_all = np.array(k_all)\n",
    "\n",
    "    z_e_all = z_e_all.reshape((-1, max_n_step, latent_dim))\n",
    "    k_all = k_all.reshape((-1, max_n_step))\n",
    "\n",
    "    #####################################################################################\n",
    "    #  III. Generate embeddings for train data till (max_n_step - num_pred) step        #\n",
    "    #####################################################################################\n",
    "    print(\"Step-3\")\n",
    "    embeddings = sess.run(\n",
    "        embeddings, feed_dict={x: data_val[:, :max_n_step, trans_mat_size:]}\n",
    "    )\n",
    "    embeddings = np.reshape(embeddings, (-1, latent_dim))\n",
    "    \n",
    "    z_e_o = z_e_all[:, :max_n_step, :]\n",
    "    k_o = k_all[:, :max_n_step]\n",
    "    next_z_e_o = []\n",
    "    state1_o = []\n",
    "    attention_weights_list = []\n",
    "    attention_weights_for_all_at_t = []\n",
    "    \n",
    "    for i in trange(num_batches):\n",
    "        batch_val_data, _, ii = next(train_gen)\n",
    "        batch_val_data = batch_val_data[:, :max_n_step, :]\n",
    "\n",
    "        # Added for CVAE\n",
    "        batch_val_ts_data = batch_val_data[:, :, trans_mat_size:]\n",
    "        batch_val_trans_mat_x = batch_val_data[:, :, :trans_mat_size]\n",
    "        batch_conditions = np.zeros((batch_val_ts_data.shape[0], max_n_step, c_dim))\n",
    "        batch_concat_x_c = np.concatenate(\n",
    "            (batch_val_ts_data, batch_conditions), axis=2\n",
    "        )\n",
    "        f_dic = {\n",
    "            x: batch_val_ts_data,\n",
    "            x_trans_mat: batch_val_trans_mat_x,\n",
    "            c: batch_conditions,\n",
    "            concat_x_c: batch_concat_x_c,\n",
    "        }\n",
    "        f_dic.update(training_dic)\n",
    "\n",
    "        next_z_e_o.extend(sess.run(next_z_e, feed_dict=f_dic))\n",
    "        attention_weights_for_all_at_t.extend(\n",
    "            sess.run(attention_weights, feed_dict=f_dic)\n",
    "        )\n",
    "\n",
    "        if i == 0:\n",
    "            state1_o = sess.run(state1, feed_dict=f_dic)\n",
    "        else:\n",
    "            state1_o = np.concatenate(\n",
    "                [state1_o, sess.run(state1, feed_dict=f_dic)], axis=1\n",
    "            )\n",
    "    next_z_e_o = np.array(next_z_e_o)\n",
    "    state1_o = np.array(state1_o)\n",
    "    next_z_e_o_all = np.reshape(next_z_e_o, (-1, max_n_step, latent_dim))\n",
    "    k_next = np.argmin(\n",
    "        z_dist_flat(next_z_e_o[:, -1, :], embeddings), axis=-1\n",
    "    )\n",
    "    k_o = np.concatenate([k_o, np.expand_dims(k_next, 1)], axis=1)\n",
    "\n",
    "    # Added for attention explainations.\n",
    "    attention_weights_for_all_at_t = np.array(attention_weights_for_all_at_t)\n",
    "    attention_weights_list.append(attention_weights_for_all_at_t)\n",
    "    attention_weights_list = np.array(attention_weights_list)\n",
    "    \n",
    "    ###########################################################################\n",
    "    #  IV. Updated pred with sliced data and embeddings for each timestamp.   #\n",
    "    ###########################################################################\n",
    "    print(\"Step-4\")\n",
    "    for i in trange(num_pred - 1):\n",
    "        inp = data_train_full[:total_val_size, i : (max_n_step + i), trans_mat_size:]\n",
    "        inp_trans = data_train_full[\n",
    "            :total_val_size, i : (max_n_step + i), :trans_mat_size\n",
    "        ]\n",
    "\n",
    "        batch_conditions = np.zeros((inp.shape[0], max_n_step, c_dim))\n",
    "        batch_concat_x_c = np.concatenate((inp, batch_conditions), axis=2)\n",
    "\n",
    "        f_dic = {x: inp, x_trans_mat: inp_trans}\n",
    "        val_dic = {\n",
    "            is_training: False,\n",
    "            z_e_p: next_z_e_o,\n",
    "            init_1: state1_o,\n",
    "            z_p: np.zeros((max_n_step * len(inp), latent_dim + c_dim)),\n",
    "            c: batch_conditions,\n",
    "            concat_x_c: batch_concat_x_c,\n",
    "        }\n",
    "        f_dic.update(val_dic)\n",
    "        next_z_e_o = sess.run(next_z_e, feed_dict=f_dic)\n",
    "        state1_o = sess.run(state1, feed_dict=f_dic)\n",
    "        k_next = np.argmin(\n",
    "            z_dist_flat(next_z_e_o[:, -1, :], embeddings), axis=-1\n",
    "        )\n",
    "        k_o = np.concatenate([k_o, np.expand_dims(k_next, 1)], axis=1)\n",
    "\n",
    "        # Storing Attention Weights for each prediction.\n",
    "        attention_weights_o = sess.run(attention_weights, feed_dict=f_dic)\n",
    "        # print(\"attention_weights_o.shape\", attention_weights_o.shape)\n",
    "        attention_weights_list = np.concatenate(\n",
    "            [attention_weights_list, np.expand_dims(attention_weights_o, 0)], axis=0\n",
    "        )\n",
    "        # print(\"attention_weights_list.shape\", attention_weights_list.shape)\n",
    "\n",
    "        next_z_e_o_all = np.concatenate(\n",
    "            [\n",
    "                next_z_e_o_all,\n",
    "                np.reshape(\n",
    "                    next_z_e_o[:, -1, :],\n",
    "                    (\n",
    "                        next_z_e_o[:, -1, :].shape[0],\n",
    "                        1,\n",
    "                        next_z_e_o[:, -1, :].shape[1],\n",
    "                    ),\n",
    "                ),\n",
    "            ],\n",
    "            axis=1,\n",
    "        )\n",
    "        next_z_e_o = next_z_e_o_all[:, i + 1 :, :]\n",
    "\n",
    "    k_o_pred = k_o[:, max_n_step:]\n",
    "    \n",
    "k_all_exp = k_all.copy()"
   ]
  },
  {
   "cell_type": "markdown",
   "id": "18caa9e4-dfe1-4f5d-a3ea-47df1e8b95ae",
   "metadata": {},
   "source": [
    "## Trajectories"
   ]
  },
  {
   "cell_type": "code",
   "execution_count": 61,
   "id": "bd37c74c-1e2a-44df-b4dc-bc0db1c8ef2e",
   "metadata": {
    "tags": []
   },
   "outputs": [
    {
     "name": "stdout",
     "output_type": "stream",
     "text": [
      "Selected player ID = 7680\n",
      "Time Step attended to the maximum = 0\n",
      "Feature Index = 5\n",
      "Feature Name = DryBulbFarenheit\n"
     ]
    }
   ],
   "source": [
    "# Player ID - select a player/trajectory index\n",
    "# p_id = good_idx[1]\n",
    "p_id = bad_idx[0]\n",
    "print(\"Selected player ID =\", p_id)\n",
    "\n",
    "# Time step attended to the maximum\n",
    "player_att_map = attention_weights_list[-1, p_id, :, -1]\n",
    "t_id = np.argmax(player_att_map[:-1])\n",
    "print(\"Time Step attended to the maximum =\", t_id)\n",
    "\n",
    "# Which cluster does the most attended time-step of the feature belong to?\n",
    "# What is the most important feature of that cluster?\n",
    "c_id = k_all[p_id, t_id] # cluster allocation at that time step \n",
    "f_id = cluster_feat_imp[c_id] # most important feature according to SHAP for that cluster\n",
    "f_name = cluster_dict[f_id] # name of the feature\n",
    "print(\"Feature Index =\", f_id)\n",
    "print(\"Feature Name =\", f_name)"
   ]
  },
  {
   "cell_type": "code",
   "execution_count": 74,
   "id": "6eceaa27-a235-4853-a3ee-b79b4fd2df9c",
   "metadata": {
    "tags": []
   },
   "outputs": [],
   "source": [
    "target_feature = trans_mat_size + 12 - 1 \n",
    "alt_feature = cluster_feat_imp[k_all[p_id, np.argmin(player_att_map[:-1])]]"
   ]
  },
  {
   "cell_type": "code",
   "execution_count": 76,
   "id": "76ac3f54-e39b-43c2-9a9d-ae94d7124e03",
   "metadata": {
    "tags": []
   },
   "outputs": [
    {
     "data": {
      "image/png": "[encoded data removed]",
      "text/plain": [
       "<Figure size 1000x600 with 3 Axes>"
      ]
     },
     "metadata": {},
     "output_type": "display_data"
    }
   ],
   "source": [
    "fig, ax = plt.subplots(3, 1, figsize=(10, 6), sharex=True)\n",
    "\n",
    "y_before = data_train_full[p_id, : max_n_step, target_feature]\n",
    "y_after = data_train_full[p_id, max_n_step :, target_feature]\n",
    "\n",
    "ax[0].plot(y_before, linestyle=\"solid\", label=\"Actual\")\n",
    "ax[0].plot(range(max_n_step, max_n_step + num_pred), y_after, linestyle=\"dashed\", label=\"Predicted\")\n",
    "ax[0].axvline(t_id, linestyle=\"dotted\", color=\"black\", linewidth=2, label=\"Attention\\nPoint\")\n",
    "ax[0].spines[['right', 'top']].set_visible(False)\n",
    "ax[0].grid(axis=\"y\")\n",
    "ax[0].set_title(\"Target Variable: \" + cluster_dict[target_feature], fontweight=\"bold\")\n",
    "\n",
    "y_before = data_train_full[p_id, : max_n_step, f_id]\n",
    "y_after = data_train_full[p_id, max_n_step :, f_id]\n",
    "\n",
    "ax[1].plot(y_before, linestyle=\"solid\", label=\"Actual\")\n",
    "ax[1].plot(range(max_n_step, max_n_step + num_pred), y_after, linestyle=\"dashed\", label=\"Predicted\")\n",
    "ax[1].axvline(t_id, linestyle=\"dotted\", color=\"black\", linewidth=2, label=\"Attention\\nPoint\")\n",
    "ax[1].spines[['right', 'top']].set_visible(False)\n",
    "ax[1].grid(axis=\"y\")\n",
    "ax[1].set_title(\"Most Dominant Feature: \" + cluster_dict[f_id], fontweight=\"bold\")\n",
    "\n",
    "y_before = data_train_full[p_id, : max_n_step, alt_feature]\n",
    "y_after = data_train_full[p_id, max_n_step :, alt_feature]\n",
    "\n",
    "ax[2].plot(y_before, linestyle=\"solid\", label=\"Actual\")\n",
    "ax[2].plot(range(max_n_step, max_n_step + num_pred), y_after, linestyle=\"dashed\", label=\"Predicted\")\n",
    "ax[2].axvline(t_id, linestyle=\"dotted\", color=\"black\", linewidth=2, label=\"Attention\\nPoint\")\n",
    "ax[2].spines[['right', 'top']].set_visible(False)\n",
    "ax[2].grid(axis=\"y\")\n",
    "ax[2].set_title(\"Least Dominant Feature: \" + cluster_dict[alt_feature], fontweight=\"bold\")\n",
    "\n",
    "_ = plt.xlabel(\"Time Step\", fontsize=15)\n",
    "_ = plt.tight_layout()\n",
    "_ = plt.legend(loc=\"lower left\", prop={\"size\": 14})"
   ]
  }
 ],
 "metadata": {
  "availableInstances": [
   {
    "_defaultOrder": 0,
    "_isFastLaunch": true,
    "category": "General purpose",
    "gpuNum": 0,
    "hideHardwareSpecs": false,
    "memoryGiB": 4,
    "name": "ml.t3.medium",
    "vcpuNum": 2
   },
   {
    "_defaultOrder": 1,
    "_isFastLaunch": false,
    "category": "General purpose",
    "gpuNum": 0,
    "hideHardwareSpecs": false,
    "memoryGiB": 8,
    "name": "ml.t3.large",
    "vcpuNum": 2
   },
   {
    "_defaultOrder": 2,
    "_isFastLaunch": false,
    "category": "General purpose",
    "gpuNum": 0,
    "hideHardwareSpecs": false,
    "memoryGiB": 16,
    "name": "ml.t3.xlarge",
    "vcpuNum": 4
   },
   {
    "_defaultOrder": 3,
    "_isFastLaunch": false,
    "category": "General purpose",
    "gpuNum": 0,
    "hideHardwareSpecs": false,
    "memoryGiB": 32,
    "name": "ml.t3.2xlarge",
    "vcpuNum": 8
   },
   {
    "_defaultOrder": 4,
    "_isFastLaunch": true,
    "category": "General purpose",
    "gpuNum": 0,
    "hideHardwareSpecs": false,
    "memoryGiB": 8,
    "name": "ml.m5.large",
    "vcpuNum": 2
   },
   {
    "_defaultOrder": 5,
    "_isFastLaunch": false,
    "category": "General purpose",
    "gpuNum": 0,
    "hideHardwareSpecs": false,
    "memoryGiB": 16,
    "name": "ml.m5.xlarge",
    "vcpuNum": 4
   },
   {
    "_defaultOrder": 6,
    "_isFastLaunch": false,
    "category": "General purpose",
    "gpuNum": 0,
    "hideHardwareSpecs": false,
    "memoryGiB": 32,
    "name": "ml.m5.2xlarge",
    "vcpuNum": 8
   },
   {
    "_defaultOrder": 7,
    "_isFastLaunch": false,
    "category": "General purpose",
    "gpuNum": 0,
    "hideHardwareSpecs": false,
    "memoryGiB": 64,
    "name": "ml.m5.4xlarge",
    "vcpuNum": 16
   },
   {
    "_defaultOrder": 8,
    "_isFastLaunch": false,
    "category": "General purpose",
    "gpuNum": 0,
    "hideHardwareSpecs": false,
    "memoryGiB": 128,
    "name": "ml.m5.8xlarge",
    "vcpuNum": 32
   },
   {
    "_defaultOrder": 9,
    "_isFastLaunch": false,
    "category": "General purpose",
    "gpuNum": 0,
    "hideHardwareSpecs": false,
    "memoryGiB": 192,
    "name": "ml.m5.12xlarge",
    "vcpuNum": 48
   },
   {
    "_defaultOrder": 10,
    "_isFastLaunch": false,
    "category": "General purpose",
    "gpuNum": 0,
    "hideHardwareSpecs": false,
    "memoryGiB": 256,
    "name": "ml.m5.16xlarge",
    "vcpuNum": 64
   },
   {
    "_defaultOrder": 11,
    "_isFastLaunch": false,
    "category": "General purpose",
    "gpuNum": 0,
    "hideHardwareSpecs": false,
    "memoryGiB": 384,
    "name": "ml.m5.24xlarge",
    "vcpuNum": 96
   },
   {
    "_defaultOrder": 12,
    "_isFastLaunch": false,
    "category": "General purpose",
    "gpuNum": 0,
    "hideHardwareSpecs": false,
    "memoryGiB": 8,
    "name": "ml.m5d.large",
    "vcpuNum": 2
   },
   {
    "_defaultOrder": 13,
    "_isFastLaunch": false,
    "category": "General purpose",
    "gpuNum": 0,
    "hideHardwareSpecs": false,
    "memoryGiB": 16,
    "name": "ml.m5d.xlarge",
    "vcpuNum": 4
   },
   {
    "_defaultOrder": 14,
    "_isFastLaunch": false,
    "category": "General purpose",
    "gpuNum": 0,
    "hideHardwareSpecs": false,
    "memoryGiB": 32,
    "name": "ml.m5d.2xlarge",
    "vcpuNum": 8
   },
   {
    "_defaultOrder": 15,
    "_isFastLaunch": false,
    "category": "General purpose",
    "gpuNum": 0,
    "hideHardwareSpecs": false,
    "memoryGiB": 64,
    "name": "ml.m5d.4xlarge",
    "vcpuNum": 16
   },
   {
    "_defaultOrder": 16,
    "_isFastLaunch": false,
    "category": "General purpose",
    "gpuNum": 0,
    "hideHardwareSpecs": false,
    "memoryGiB": 128,
    "name": "ml.m5d.8xlarge",
    "vcpuNum": 32
   },
   {
    "_defaultOrder": 17,
    "_isFastLaunch": false,
    "category": "General purpose",
    "gpuNum": 0,
    "hideHardwareSpecs": false,
    "memoryGiB": 192,
    "name": "ml.m5d.12xlarge",
    "vcpuNum": 48
   },
   {
    "_defaultOrder": 18,
    "_isFastLaunch": false,
    "category": "General purpose",
    "gpuNum": 0,
    "hideHardwareSpecs": false,
    "memoryGiB": 256,
    "name": "ml.m5d.16xlarge",
    "vcpuNum": 64
   },
   {
    "_defaultOrder": 19,
    "_isFastLaunch": false,
    "category": "General purpose",
    "gpuNum": 0,
    "hideHardwareSpecs": false,
    "memoryGiB": 384,
    "name": "ml.m5d.24xlarge",
    "vcpuNum": 96
   },
   {
    "_defaultOrder": 20,
    "_isFastLaunch": false,
    "category": "General purpose",
    "gpuNum": 0,
    "hideHardwareSpecs": true,
    "memoryGiB": 0,
    "name": "ml.geospatial.interactive",
    "supportedImageNames": [
     "sagemaker-geospatial-v1-0"
    ],
    "vcpuNum": 0
   },
   {
    "_defaultOrder": 21,
    "_isFastLaunch": true,
    "category": "Compute optimized",
    "gpuNum": 0,
    "hideHardwareSpecs": false,
    "memoryGiB": 4,
    "name": "ml.c5.large",
    "vcpuNum": 2
   },
   {
    "_defaultOrder": 22,
    "_isFastLaunch": false,
    "category": "Compute optimized",
    "gpuNum": 0,
    "hideHardwareSpecs": false,
    "memoryGiB": 8,
    "name": "ml.c5.xlarge",
    "vcpuNum": 4
   },
   {
    "_defaultOrder": 23,
    "_isFastLaunch": false,
    "category": "Compute optimized",
    "gpuNum": 0,
    "hideHardwareSpecs": false,
    "memoryGiB": 16,
    "name": "ml.c5.2xlarge",
    "vcpuNum": 8
   },
   {
    "_defaultOrder": 24,
    "_isFastLaunch": false,
    "category": "Compute optimized",
    "gpuNum": 0,
    "hideHardwareSpecs": false,
    "memoryGiB": 32,
    "name": "ml.c5.4xlarge",
    "vcpuNum": 16
   },
   {
    "_defaultOrder": 25,
    "_isFastLaunch": false,
    "category": "Compute optimized",
    "gpuNum": 0,
    "hideHardwareSpecs": false,
    "memoryGiB": 72,
    "name": "ml.c5.9xlarge",
    "vcpuNum": 36
   },
   {
    "_defaultOrder": 26,
    "_isFastLaunch": false,
    "category": "Compute optimized",
    "gpuNum": 0,
    "hideHardwareSpecs": false,
    "memoryGiB": 96,
    "name": "ml.c5.12xlarge",
    "vcpuNum": 48
   },
   {
    "_defaultOrder": 27,
    "_isFastLaunch": false,
    "category": "Compute optimized",
    "gpuNum": 0,
    "hideHardwareSpecs": false,
    "memoryGiB": 144,
    "name": "ml.c5.18xlarge",
    "vcpuNum": 72
   },
   {
    "_defaultOrder": 28,
    "_isFastLaunch": false,
    "category": "Compute optimized",
    "gpuNum": 0,
    "hideHardwareSpecs": false,
    "memoryGiB": 192,
    "name": "ml.c5.24xlarge",
    "vcpuNum": 96
   },
   {
    "_defaultOrder": 29,
    "_isFastLaunch": true,
    "category": "Accelerated computing",
    "gpuNum": 1,
    "hideHardwareSpecs": false,
    "memoryGiB": 16,
    "name": "ml.g4dn.xlarge",
    "vcpuNum": 4
   },
   {
    "_defaultOrder": 30,
    "_isFastLaunch": false,
    "category": "Accelerated computing",
    "gpuNum": 1,
    "hideHardwareSpecs": false,
    "memoryGiB": 32,
    "name": "ml.g4dn.2xlarge",
    "vcpuNum": 8
   },
   {
    "_defaultOrder": 31,
    "_isFastLaunch": false,
    "category": "Accelerated computing",
    "gpuNum": 1,
    "hideHardwareSpecs": false,
    "memoryGiB": 64,
    "name": "ml.g4dn.4xlarge",
    "vcpuNum": 16
   },
   {
    "_defaultOrder": 32,
    "_isFastLaunch": false,
    "category": "Accelerated computing",
    "gpuNum": 1,
    "hideHardwareSpecs": false,
    "memoryGiB": 128,
    "name": "ml.g4dn.8xlarge",
    "vcpuNum": 32
   },
   {
    "_defaultOrder": 33,
    "_isFastLaunch": false,
    "category": "Accelerated computing",
    "gpuNum": 4,
    "hideHardwareSpecs": false,
    "memoryGiB": 192,
    "name": "ml.g4dn.12xlarge",
    "vcpuNum": 48
   },
   {
    "_defaultOrder": 34,
    "_isFastLaunch": false,
    "category": "Accelerated computing",
    "gpuNum": 1,
    "hideHardwareSpecs": false,
    "memoryGiB": 256,
    "name": "ml.g4dn.16xlarge",
    "vcpuNum": 64
   },
   {
    "_defaultOrder": 35,
    "_isFastLaunch": false,
    "category": "Accelerated computing",
    "gpuNum": 1,
    "hideHardwareSpecs": false,
    "memoryGiB": 61,
    "name": "ml.p3.2xlarge",
    "vcpuNum": 8
   },
   {
    "_defaultOrder": 36,
    "_isFastLaunch": false,
    "category": "Accelerated computing",
    "gpuNum": 4,
    "hideHardwareSpecs": false,
    "memoryGiB": 244,
    "name": "ml.p3.8xlarge",
    "vcpuNum": 32
   },
   {
    "_defaultOrder": 37,
    "_isFastLaunch": false,
    "category": "Accelerated computing",
    "gpuNum": 8,
    "hideHardwareSpecs": false,
    "memoryGiB": 488,
    "name": "ml.p3.16xlarge",
    "vcpuNum": 64
   },
   {
    "_defaultOrder": 38,
    "_isFastLaunch": false,
    "category": "Accelerated computing",
    "gpuNum": 8,
    "hideHardwareSpecs": false,
    "memoryGiB": 768,
    "name": "ml.p3dn.24xlarge",
    "vcpuNum": 96
   },
   {
    "_defaultOrder": 39,
    "_isFastLaunch": false,
    "category": "Memory Optimized",
    "gpuNum": 0,
    "hideHardwareSpecs": false,
    "memoryGiB": 16,
    "name": "ml.r5.large",
    "vcpuNum": 2
   },
   {
    "_defaultOrder": 40,
    "_isFastLaunch": false,
    "category": "Memory Optimized",
    "gpuNum": 0,
    "hideHardwareSpecs": false,
    "memoryGiB": 32,
    "name": "ml.r5.xlarge",
    "vcpuNum": 4
   },
   {
    "_defaultOrder": 41,
    "_isFastLaunch": false,
    "category": "Memory Optimized",
    "gpuNum": 0,
    "hideHardwareSpecs": false,
    "memoryGiB": 64,
    "name": "ml.r5.2xlarge",
    "vcpuNum": 8
   },
   {
    "_defaultOrder": 42,
    "_isFastLaunch": false,
    "category": "Memory Optimized",
    "gpuNum": 0,
    "hideHardwareSpecs": false,
    "memoryGiB": 128,
    "name": "ml.r5.4xlarge",
    "vcpuNum": 16
   },
   {
    "_defaultOrder": 43,
    "_isFastLaunch": false,
    "category": "Memory Optimized",
    "gpuNum": 0,
    "hideHardwareSpecs": false,
    "memoryGiB": 256,
    "name": "ml.r5.8xlarge",
    "vcpuNum": 32
   },
   {
    "_defaultOrder": 44,
    "_isFastLaunch": false,
    "category": "Memory Optimized",
    "gpuNum": 0,
    "hideHardwareSpecs": false,
    "memoryGiB": 384,
    "name": "ml.r5.12xlarge",
    "vcpuNum": 48
   },
   {
    "_defaultOrder": 45,
    "_isFastLaunch": false,
    "category": "Memory Optimized",
    "gpuNum": 0,
    "hideHardwareSpecs": false,
    "memoryGiB": 512,
    "name": "ml.r5.16xlarge",
    "vcpuNum": 64
   },
   {
    "_defaultOrder": 46,
    "_isFastLaunch": false,
    "category": "Memory Optimized",
    "gpuNum": 0,
    "hideHardwareSpecs": false,
    "memoryGiB": 768,
    "name": "ml.r5.24xlarge",
    "vcpuNum": 96
   },
   {
    "_defaultOrder": 47,
    "_isFastLaunch": false,
    "category": "Accelerated computing",
    "gpuNum": 1,
    "hideHardwareSpecs": false,
    "memoryGiB": 16,
    "name": "ml.g5.xlarge",
    "vcpuNum": 4
   },
   {
    "_defaultOrder": 48,
    "_isFastLaunch": false,
    "category": "Accelerated computing",
    "gpuNum": 1,
    "hideHardwareSpecs": false,
    "memoryGiB": 32,
    "name": "ml.g5.2xlarge",
    "vcpuNum": 8
   },
   {
    "_defaultOrder": 49,
    "_isFastLaunch": false,
    "category": "Accelerated computing",
    "gpuNum": 1,
    "hideHardwareSpecs": false,
    "memoryGiB": 64,
    "name": "ml.g5.4xlarge",
    "vcpuNum": 16
   },
   {
    "_defaultOrder": 50,
    "_isFastLaunch": false,
    "category": "Accelerated computing",
    "gpuNum": 1,
    "hideHardwareSpecs": false,
    "memoryGiB": 128,
    "name": "ml.g5.8xlarge",
    "vcpuNum": 32
   },
   {
    "_defaultOrder": 51,
    "_isFastLaunch": false,
    "category": "Accelerated computing",
    "gpuNum": 1,
    "hideHardwareSpecs": false,
    "memoryGiB": 256,
    "name": "ml.g5.16xlarge",
    "vcpuNum": 64
   },
   {
    "_defaultOrder": 52,
    "_isFastLaunch": false,
    "category": "Accelerated computing",
    "gpuNum": 4,
    "hideHardwareSpecs": false,
    "memoryGiB": 192,
    "name": "ml.g5.12xlarge",
    "vcpuNum": 48
   },
   {
    "_defaultOrder": 53,
    "_isFastLaunch": false,
    "category": "Accelerated computing",
    "gpuNum": 4,
    "hideHardwareSpecs": false,
    "memoryGiB": 384,
    "name": "ml.g5.24xlarge",
    "vcpuNum": 96
   },
   {
    "_defaultOrder": 54,
    "_isFastLaunch": false,
    "category": "Accelerated computing",
    "gpuNum": 8,
    "hideHardwareSpecs": false,
    "memoryGiB": 768,
    "name": "ml.g5.48xlarge",
    "vcpuNum": 192
   },
   {
    "_defaultOrder": 55,
    "_isFastLaunch": false,
    "category": "Accelerated computing",
    "gpuNum": 8,
    "hideHardwareSpecs": false,
    "memoryGiB": 1152,
    "name": "ml.p4d.24xlarge",
    "vcpuNum": 96
   },
   {
    "_defaultOrder": 56,
    "_isFastLaunch": false,
    "category": "Accelerated computing",
    "gpuNum": 8,
    "hideHardwareSpecs": false,
    "memoryGiB": 1152,
    "name": "ml.p4de.24xlarge",
    "vcpuNum": 96
   }
  ],
  "instance_type": "ml.m5.8xlarge",
  "kernelspec": {
   "display_name": "base",
   "language": "python",
   "name": "python3"
  },
  "language_info": {
   "codemirror_mode": {
    "name": "ipython",
    "version": 3
   },
   "file_extension": ".py",
   "mimetype": "text/x-python",
   "name": "python",
   "nbconvert_exporter": "python",
   "pygments_lexer": "ipython3",
   "version": "3.9.12"
  }
 },
 "nbformat": 4,
 "nbformat_minor": 5
}
